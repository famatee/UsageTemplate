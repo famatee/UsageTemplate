{
 "cells": [
  {
   "cell_type": "code",
   "execution_count": 3,
   "metadata": {},
   "outputs": [
    {
     "name": "stdout",
     "output_type": "stream",
     "text": [
      "[] (0,)\n"
     ]
    }
   ],
   "source": [
    "import numpy as np\n",
    "import tqdm\n",
    "import scipy.sparse as sp\n",
    "num_exercise=100\n",
    "relation=np.zeros((num_exercise+1,num_exercise+1))\n",
    "# 省略e2e关系提取过程\n",
    "\n",
    "# 将邻接矩阵变成IndicesTensor\n",
    "e2e_coo=sp.coo_matrix(np.tril(relation))\n",
    "e2eIndices=np.vstack((e2e_coo.row,e2e_coo.col))\n",
    "# 将e2e关系保存成文件，使用邻接矩阵保存占用比较大磁盘内存，且满足torch_geometric的GAT,GCN需要的e2e关系形式\n",
    "np.save('e2eIndices.npy',e2eIndices)\n",
    "# e2eIndices的形状可以自己print一下看看"
   ]
  }
 ],
 "metadata": {
  "kernelspec": {
   "display_name": "hjlTorch1",
   "language": "python",
   "name": "python3"
  },
  "language_info": {
   "codemirror_mode": {
    "name": "ipython",
    "version": 3
   },
   "file_extension": ".py",
   "mimetype": "text/x-python",
   "name": "python",
   "nbconvert_exporter": "python",
   "pygments_lexer": "ipython3",
   "version": "3.8.13"
  },
  "orig_nbformat": 4
 },
 "nbformat": 4,
 "nbformat_minor": 2
}
